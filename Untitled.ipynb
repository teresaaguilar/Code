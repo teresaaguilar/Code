{
  "metadata": {
    "language_info": {
      "name": ""
    },
    "kernelspec": {
      "name": "",
      "display_name": ""
    }
  },
  "nbformat_minor": 4,
  "nbformat": 4,
  "cells": [
    {
      "cell_type": "code",
      "source": "import numpy as np\nimport matplotlib.pyplot as plt\n\nnp.random.seed(8)\na0=1\nb0=2\nxvals=np.linspace(0,10,10)\ny=a0*xvals+b0\ne=np.random.normal(0,1, size=10)\nye=y+e\n\n#yi=axi+b+ei:\n\nxvals=np.linspace(0,10,10)\nplt.plot(xvals,y)\nplt.scatter(xvals,ye,marker='o')\n\nplt.xlabel('valors x')\nplt.ylabel('valors y')\nplt.show()",
      "metadata": {},
      "execution_count": null,
      "outputs": []
    }
  ]
}